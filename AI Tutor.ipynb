{
 "cells": [
  {
   "cell_type": "code",
   "execution_count": 1,
   "id": "9f2491b3-a59f-491a-904d-825669e1bc4b",
   "metadata": {},
   "outputs": [],
   "source": [
    "!pip install -q --upgrade openai python-dotenv"
   ]
  },
  {
   "cell_type": "code",
   "execution_count": 2,
   "id": "005ba965-1f8a-4af9-90f0-f3185a5f3e7c",
   "metadata": {},
   "outputs": [
    {
     "name": "stdout",
     "output_type": "stream",
     "text": [
      "Collecting gradio\n",
      "  Downloading gradio-5.45.0-py3-none-any.whl.metadata (16 kB)\n",
      "Collecting aiofiles<25.0,>=22.0 (from gradio)\n",
      "  Downloading aiofiles-24.1.0-py3-none-any.whl.metadata (10 kB)\n",
      "Requirement already satisfied: anyio<5.0,>=3.0 in c:\\users\\elwady\\miniconda3\\lib\\site-packages (from gradio) (4.7.0)\n",
      "Collecting brotli>=1.1.0 (from gradio)\n",
      "  Downloading Brotli-1.1.0-cp312-cp312-win_amd64.whl.metadata (5.6 kB)\n",
      "Collecting fastapi<1.0,>=0.115.2 (from gradio)\n",
      "  Downloading fastapi-0.116.1-py3-none-any.whl.metadata (28 kB)\n",
      "Collecting ffmpy (from gradio)\n",
      "  Downloading ffmpy-0.6.1-py3-none-any.whl.metadata (2.9 kB)\n",
      "Collecting gradio-client==1.13.0 (from gradio)\n",
      "  Downloading gradio_client-1.13.0-py3-none-any.whl.metadata (7.1 kB)\n",
      "Collecting groovy~=0.1 (from gradio)\n",
      "  Downloading groovy-0.1.2-py3-none-any.whl.metadata (6.1 kB)\n",
      "Requirement already satisfied: httpx<1.0,>=0.24.1 in c:\\users\\elwady\\miniconda3\\lib\\site-packages (from gradio) (0.28.1)\n",
      "Collecting huggingface-hub<1.0,>=0.33.5 (from gradio)\n",
      "  Downloading huggingface_hub-0.34.4-py3-none-any.whl.metadata (14 kB)\n",
      "Requirement already satisfied: jinja2<4.0 in c:\\users\\elwady\\miniconda3\\lib\\site-packages (from gradio) (3.1.6)\n",
      "Requirement already satisfied: markupsafe<4.0,>=2.0 in c:\\users\\elwady\\miniconda3\\lib\\site-packages (from gradio) (3.0.2)\n",
      "Collecting numpy<3.0,>=1.0 (from gradio)\n",
      "  Downloading numpy-2.3.3-cp312-cp312-win_amd64.whl.metadata (60 kB)\n",
      "Collecting orjson~=3.0 (from gradio)\n",
      "  Downloading orjson-3.11.3-cp312-cp312-win_amd64.whl.metadata (43 kB)\n",
      "Requirement already satisfied: packaging in c:\\users\\elwady\\miniconda3\\lib\\site-packages (from gradio) (24.1)\n",
      "Collecting pandas<3.0,>=1.0 (from gradio)\n",
      "  Downloading pandas-2.3.2-cp312-cp312-win_amd64.whl.metadata (19 kB)\n",
      "Requirement already satisfied: pillow<12.0,>=8.0 in c:\\users\\elwady\\miniconda3\\lib\\site-packages (from gradio) (11.3.0)\n",
      "Requirement already satisfied: pydantic<2.12,>=2.0 in c:\\users\\elwady\\miniconda3\\lib\\site-packages (from gradio) (2.11.7)\n",
      "Collecting pydub (from gradio)\n",
      "  Downloading pydub-0.25.1-py2.py3-none-any.whl.metadata (1.4 kB)\n",
      "Collecting python-multipart>=0.0.18 (from gradio)\n",
      "  Downloading python_multipart-0.0.20-py3-none-any.whl.metadata (1.8 kB)\n",
      "Requirement already satisfied: pyyaml<7.0,>=5.0 in c:\\users\\elwady\\miniconda3\\lib\\site-packages (from gradio) (6.0.2)\n",
      "Collecting ruff>=0.9.3 (from gradio)\n",
      "  Downloading ruff-0.13.0-py3-none-win_amd64.whl.metadata (26 kB)\n",
      "Collecting safehttpx<0.2.0,>=0.1.6 (from gradio)\n",
      "  Downloading safehttpx-0.1.6-py3-none-any.whl.metadata (4.2 kB)\n",
      "Collecting semantic-version~=2.0 (from gradio)\n",
      "  Downloading semantic_version-2.10.0-py2.py3-none-any.whl.metadata (9.7 kB)\n",
      "Collecting starlette<1.0,>=0.40.0 (from gradio)\n",
      "  Downloading starlette-0.48.0-py3-none-any.whl.metadata (6.3 kB)\n",
      "Collecting tomlkit<0.14.0,>=0.12.0 (from gradio)\n",
      "  Downloading tomlkit-0.13.3-py3-none-any.whl.metadata (2.8 kB)\n",
      "Collecting typer<1.0,>=0.12 (from gradio)\n",
      "  Downloading typer-0.17.4-py3-none-any.whl.metadata (15 kB)\n",
      "Requirement already satisfied: typing-extensions~=4.0 in c:\\users\\elwady\\miniconda3\\lib\\site-packages (from gradio) (4.15.0)\n",
      "Collecting uvicorn>=0.14.0 (from gradio)\n",
      "  Downloading uvicorn-0.35.0-py3-none-any.whl.metadata (6.5 kB)\n",
      "Collecting fsspec (from gradio-client==1.13.0->gradio)\n",
      "  Downloading fsspec-2025.9.0-py3-none-any.whl.metadata (10 kB)\n",
      "Collecting websockets<16.0,>=10.0 (from gradio-client==1.13.0->gradio)\n",
      "  Downloading websockets-15.0.1-cp312-cp312-win_amd64.whl.metadata (7.0 kB)\n",
      "Requirement already satisfied: idna>=2.8 in c:\\users\\elwady\\miniconda3\\lib\\site-packages (from anyio<5.0,>=3.0->gradio) (3.7)\n",
      "Requirement already satisfied: sniffio>=1.1 in c:\\users\\elwady\\miniconda3\\lib\\site-packages (from anyio<5.0,>=3.0->gradio) (1.3.0)\n",
      "Collecting starlette<1.0,>=0.40.0 (from gradio)\n",
      "  Downloading starlette-0.47.3-py3-none-any.whl.metadata (6.2 kB)\n",
      "Requirement already satisfied: certifi in c:\\users\\elwady\\miniconda3\\lib\\site-packages (from httpx<1.0,>=0.24.1->gradio) (2025.8.3)\n",
      "Requirement already satisfied: httpcore==1.* in c:\\users\\elwady\\miniconda3\\lib\\site-packages (from httpx<1.0,>=0.24.1->gradio) (1.0.9)\n",
      "Requirement already satisfied: h11>=0.16 in c:\\users\\elwady\\miniconda3\\lib\\site-packages (from httpcore==1.*->httpx<1.0,>=0.24.1->gradio) (0.16.0)\n",
      "Collecting filelock (from huggingface-hub<1.0,>=0.33.5->gradio)\n",
      "  Downloading filelock-3.19.1-py3-none-any.whl.metadata (2.1 kB)\n",
      "Requirement already satisfied: requests in c:\\users\\elwady\\miniconda3\\lib\\site-packages (from huggingface-hub<1.0,>=0.33.5->gradio) (2.32.3)\n",
      "Requirement already satisfied: tqdm>=4.42.1 in c:\\users\\elwady\\miniconda3\\lib\\site-packages (from huggingface-hub<1.0,>=0.33.5->gradio) (4.66.5)\n",
      "Requirement already satisfied: python-dateutil>=2.8.2 in c:\\users\\elwady\\miniconda3\\lib\\site-packages (from pandas<3.0,>=1.0->gradio) (2.9.0.post0)\n",
      "Collecting pytz>=2020.1 (from pandas<3.0,>=1.0->gradio)\n",
      "  Downloading pytz-2025.2-py2.py3-none-any.whl.metadata (22 kB)\n",
      "Collecting tzdata>=2022.7 (from pandas<3.0,>=1.0->gradio)\n",
      "  Downloading tzdata-2025.2-py2.py3-none-any.whl.metadata (1.4 kB)\n",
      "Requirement already satisfied: annotated-types>=0.6.0 in c:\\users\\elwady\\miniconda3\\lib\\site-packages (from pydantic<2.12,>=2.0->gradio) (0.7.0)\n",
      "Requirement already satisfied: pydantic-core==2.33.2 in c:\\users\\elwady\\miniconda3\\lib\\site-packages (from pydantic<2.12,>=2.0->gradio) (2.33.2)\n",
      "Requirement already satisfied: typing-inspection>=0.4.0 in c:\\users\\elwady\\miniconda3\\lib\\site-packages (from pydantic<2.12,>=2.0->gradio) (0.4.1)\n",
      "Collecting click>=8.0.0 (from typer<1.0,>=0.12->gradio)\n",
      "  Downloading click-8.2.1-py3-none-any.whl.metadata (2.5 kB)\n",
      "Collecting shellingham>=1.3.0 (from typer<1.0,>=0.12->gradio)\n",
      "  Downloading shellingham-1.5.4-py2.py3-none-any.whl.metadata (3.5 kB)\n",
      "Collecting rich>=10.11.0 (from typer<1.0,>=0.12->gradio)\n",
      "  Downloading rich-14.1.0-py3-none-any.whl.metadata (18 kB)\n",
      "Requirement already satisfied: colorama in c:\\users\\elwady\\miniconda3\\lib\\site-packages (from click>=8.0.0->typer<1.0,>=0.12->gradio) (0.4.6)\n",
      "Requirement already satisfied: six>=1.5 in c:\\users\\elwady\\miniconda3\\lib\\site-packages (from python-dateutil>=2.8.2->pandas<3.0,>=1.0->gradio) (1.17.0)\n",
      "Collecting markdown-it-py>=2.2.0 (from rich>=10.11.0->typer<1.0,>=0.12->gradio)\n",
      "  Downloading markdown_it_py-4.0.0-py3-none-any.whl.metadata (7.3 kB)\n",
      "Requirement already satisfied: pygments<3.0.0,>=2.13.0 in c:\\users\\elwady\\miniconda3\\lib\\site-packages (from rich>=10.11.0->typer<1.0,>=0.12->gradio) (2.19.1)\n",
      "Requirement already satisfied: charset-normalizer<4,>=2 in c:\\users\\elwady\\miniconda3\\lib\\site-packages (from requests->huggingface-hub<1.0,>=0.33.5->gradio) (3.3.2)\n",
      "Requirement already satisfied: urllib3<3,>=1.21.1 in c:\\users\\elwady\\miniconda3\\lib\\site-packages (from requests->huggingface-hub<1.0,>=0.33.5->gradio) (2.2.3)\n",
      "Collecting mdurl~=0.1 (from markdown-it-py>=2.2.0->rich>=10.11.0->typer<1.0,>=0.12->gradio)\n",
      "  Downloading mdurl-0.1.2-py3-none-any.whl.metadata (1.6 kB)\n",
      "Downloading gradio-5.45.0-py3-none-any.whl (60.4 MB)\n",
      "   ---------------------------------------- 0.0/60.4 MB ? eta -:--:--\n",
      "   ---------------------------------------- 0.3/60.4 MB ? eta -:--:--\n",
      "   ---------------------------------------- 0.5/60.4 MB 1.9 MB/s eta 0:00:33\n",
      "    --------------------------------------- 1.0/60.4 MB 1.9 MB/s eta 0:00:32\n",
      "    --------------------------------------- 1.3/60.4 MB 1.8 MB/s eta 0:00:33\n",
      "   - -------------------------------------- 1.8/60.4 MB 1.8 MB/s eta 0:00:32\n",
      "   - -------------------------------------- 2.1/60.4 MB 1.8 MB/s eta 0:00:32\n",
      "   - -------------------------------------- 2.6/60.4 MB 1.8 MB/s eta 0:00:32\n",
      "   - -------------------------------------- 2.9/60.4 MB 1.8 MB/s eta 0:00:32\n",
      "   -- ------------------------------------- 3.4/60.4 MB 1.8 MB/s eta 0:00:31\n",
      "   -- ------------------------------------- 3.7/60.4 MB 1.8 MB/s eta 0:00:31\n",
      "   -- ------------------------------------- 4.2/60.4 MB 1.9 MB/s eta 0:00:31\n",
      "   --- ------------------------------------ 4.7/60.4 MB 1.9 MB/s eta 0:00:30\n",
      "   --- ------------------------------------ 5.0/60.4 MB 1.9 MB/s eta 0:00:30\n",
      "   --- ------------------------------------ 5.5/60.4 MB 1.9 MB/s eta 0:00:30\n",
      "   --- ------------------------------------ 5.8/60.4 MB 1.9 MB/s eta 0:00:30\n",
      "   --- ------------------------------------ 5.8/60.4 MB 1.9 MB/s eta 0:00:30\n",
      "   --- ------------------------------------ 6.0/60.4 MB 1.7 MB/s eta 0:00:32\n",
      "   ---- ----------------------------------- 6.3/60.4 MB 1.7 MB/s eta 0:00:33\n",
      "   ---- ----------------------------------- 6.6/60.4 MB 1.7 MB/s eta 0:00:33\n",
      "   ---- ----------------------------------- 6.8/60.4 MB 1.7 MB/s eta 0:00:32\n",
      "   ---- ----------------------------------- 7.1/60.4 MB 1.7 MB/s eta 0:00:33\n",
      "   ---- ----------------------------------- 7.3/60.4 MB 1.6 MB/s eta 0:00:33\n",
      "   ----- ---------------------------------- 7.9/60.4 MB 1.6 MB/s eta 0:00:32\n",
      "   ----- ---------------------------------- 8.4/60.4 MB 1.7 MB/s eta 0:00:32\n",
      "   ----- ---------------------------------- 8.7/60.4 MB 1.7 MB/s eta 0:00:32\n",
      "   ------ --------------------------------- 9.2/60.4 MB 1.7 MB/s eta 0:00:31\n",
      "   ------ --------------------------------- 9.7/60.4 MB 1.7 MB/s eta 0:00:30\n",
      "   ------ --------------------------------- 10.0/60.4 MB 1.7 MB/s eta 0:00:30\n",
      "   ------ --------------------------------- 10.5/60.4 MB 1.7 MB/s eta 0:00:29\n",
      "   ------- -------------------------------- 11.0/60.4 MB 1.7 MB/s eta 0:00:29\n",
      "   ------- -------------------------------- 11.3/60.4 MB 1.7 MB/s eta 0:00:29\n",
      "   ------- -------------------------------- 11.8/60.4 MB 1.8 MB/s eta 0:00:28\n",
      "   -------- ------------------------------- 12.3/60.4 MB 1.8 MB/s eta 0:00:28\n",
      "   -------- ------------------------------- 12.6/60.4 MB 1.8 MB/s eta 0:00:27\n",
      "   -------- ------------------------------- 13.1/60.4 MB 1.8 MB/s eta 0:00:27\n",
      "   --------- ------------------------------ 13.6/60.4 MB 1.8 MB/s eta 0:00:27\n",
      "   --------- ------------------------------ 13.9/60.4 MB 1.8 MB/s eta 0:00:26\n",
      "   --------- ------------------------------ 14.4/60.4 MB 1.8 MB/s eta 0:00:26\n",
      "   --------- ------------------------------ 14.7/60.4 MB 1.8 MB/s eta 0:00:26\n",
      "   --------- ------------------------------ 14.9/60.4 MB 1.8 MB/s eta 0:00:26\n",
      "   ---------- ----------------------------- 15.2/60.4 MB 1.8 MB/s eta 0:00:26\n",
      "   ---------- ----------------------------- 15.5/60.4 MB 1.8 MB/s eta 0:00:26\n",
      "   ---------- ----------------------------- 16.0/60.4 MB 1.8 MB/s eta 0:00:26\n",
      "   ---------- ----------------------------- 16.3/60.4 MB 1.7 MB/s eta 0:00:26\n",
      "   ---------- ----------------------------- 16.5/60.4 MB 1.7 MB/s eta 0:00:26\n",
      "   ----------- ---------------------------- 16.8/60.4 MB 1.7 MB/s eta 0:00:26\n",
      "   ----------- ---------------------------- 17.3/60.4 MB 1.7 MB/s eta 0:00:25\n",
      "   ----------- ---------------------------- 17.6/60.4 MB 1.7 MB/s eta 0:00:25\n",
      "   ----------- ---------------------------- 18.1/60.4 MB 1.8 MB/s eta 0:00:25\n",
      "   ------------ --------------------------- 18.6/60.4 MB 1.8 MB/s eta 0:00:24\n",
      "   ------------ --------------------------- 18.9/60.4 MB 1.8 MB/s eta 0:00:24\n",
      "   ------------ --------------------------- 19.4/60.4 MB 1.8 MB/s eta 0:00:24\n",
      "   ------------- -------------------------- 19.7/60.4 MB 1.8 MB/s eta 0:00:23\n",
      "   ------------- -------------------------- 20.2/60.4 MB 1.8 MB/s eta 0:00:23\n",
      "   ------------- -------------------------- 20.4/60.4 MB 1.8 MB/s eta 0:00:23\n",
      "   ------------- -------------------------- 21.0/60.4 MB 1.8 MB/s eta 0:00:23\n",
      "   -------------- ------------------------- 21.5/60.4 MB 1.8 MB/s eta 0:00:22\n",
      "   -------------- ------------------------- 21.8/60.4 MB 1.8 MB/s eta 0:00:22\n",
      "   -------------- ------------------------- 22.3/60.4 MB 1.8 MB/s eta 0:00:22\n",
      "   --------------- ------------------------ 22.8/60.4 MB 1.8 MB/s eta 0:00:21\n",
      "   --------------- ------------------------ 23.1/60.4 MB 1.8 MB/s eta 0:00:21\n",
      "   --------------- ------------------------ 23.6/60.4 MB 1.8 MB/s eta 0:00:21\n",
      "   --------------- ------------------------ 24.1/60.4 MB 1.8 MB/s eta 0:00:21\n",
      "   ---------------- ----------------------- 24.4/60.4 MB 1.8 MB/s eta 0:00:20\n",
      "   ---------------- ----------------------- 24.9/60.4 MB 1.8 MB/s eta 0:00:20\n",
      "   ---------------- ----------------------- 25.2/60.4 MB 1.8 MB/s eta 0:00:20\n",
      "   ----------------- ---------------------- 25.7/60.4 MB 1.8 MB/s eta 0:00:20\n",
      "   ----------------- ---------------------- 26.0/60.4 MB 1.8 MB/s eta 0:00:19\n",
      "   ----------------- ---------------------- 26.5/60.4 MB 1.8 MB/s eta 0:00:19\n",
      "   ----------------- ---------------------- 27.0/60.4 MB 1.8 MB/s eta 0:00:19\n",
      "   ------------------ --------------------- 27.5/60.4 MB 1.8 MB/s eta 0:00:18\n",
      "   ------------------ --------------------- 27.8/60.4 MB 1.8 MB/s eta 0:00:18\n",
      "   ------------------ --------------------- 28.3/60.4 MB 1.8 MB/s eta 0:00:18\n",
      "   ------------------ --------------------- 28.6/60.4 MB 1.8 MB/s eta 0:00:18\n",
      "   ------------------- -------------------- 29.1/60.4 MB 1.8 MB/s eta 0:00:18\n",
      "   ------------------- -------------------- 29.6/60.4 MB 1.8 MB/s eta 0:00:17\n",
      "   ------------------- -------------------- 29.9/60.4 MB 1.8 MB/s eta 0:00:17\n",
      "   -------------------- ------------------- 30.4/60.4 MB 1.8 MB/s eta 0:00:17\n",
      "   -------------------- ------------------- 30.9/60.4 MB 1.9 MB/s eta 0:00:16\n",
      "   -------------------- ------------------- 31.2/60.4 MB 1.9 MB/s eta 0:00:16\n",
      "   --------------------- ------------------ 31.7/60.4 MB 1.9 MB/s eta 0:00:16\n",
      "   --------------------- ------------------ 32.2/60.4 MB 1.9 MB/s eta 0:00:16\n",
      "   --------------------- ------------------ 32.5/60.4 MB 1.9 MB/s eta 0:00:15\n",
      "   --------------------- ------------------ 33.0/60.4 MB 1.9 MB/s eta 0:00:15\n",
      "   ---------------------- ----------------- 33.6/60.4 MB 1.9 MB/s eta 0:00:15\n",
      "   ---------------------- ----------------- 33.8/60.4 MB 1.9 MB/s eta 0:00:15\n",
      "   ---------------------- ----------------- 34.1/60.4 MB 1.9 MB/s eta 0:00:15\n",
      "   ---------------------- ----------------- 34.3/60.4 MB 1.8 MB/s eta 0:00:15\n",
      "   ---------------------- ----------------- 34.6/60.4 MB 1.8 MB/s eta 0:00:14\n",
      "   ----------------------- ---------------- 35.1/60.4 MB 1.8 MB/s eta 0:00:14\n",
      "   ----------------------- ---------------- 35.4/60.4 MB 1.8 MB/s eta 0:00:14\n",
      "   ----------------------- ---------------- 35.7/60.4 MB 1.8 MB/s eta 0:00:14\n",
      "   ----------------------- ---------------- 35.9/60.4 MB 1.8 MB/s eta 0:00:14\n",
      "   ----------------------- ---------------- 36.2/60.4 MB 1.8 MB/s eta 0:00:14\n",
      "   ------------------------ --------------- 36.7/60.4 MB 1.8 MB/s eta 0:00:13\n",
      "   ------------------------ --------------- 37.0/60.4 MB 1.8 MB/s eta 0:00:13\n",
      "   ------------------------ --------------- 37.5/60.4 MB 1.8 MB/s eta 0:00:13\n",
      "   ------------------------- -------------- 37.7/60.4 MB 1.8 MB/s eta 0:00:13\n",
      "   ------------------------- -------------- 38.3/60.4 MB 1.8 MB/s eta 0:00:13\n",
      "   ------------------------- -------------- 38.5/60.4 MB 1.8 MB/s eta 0:00:12\n",
      "   ------------------------- -------------- 39.1/60.4 MB 1.8 MB/s eta 0:00:12\n",
      "   -------------------------- ------------- 39.3/60.4 MB 1.8 MB/s eta 0:00:12\n",
      "   -------------------------- ------------- 39.8/60.4 MB 1.8 MB/s eta 0:00:12\n",
      "   -------------------------- ------------- 40.1/60.4 MB 1.8 MB/s eta 0:00:12\n",
      "   -------------------------- ------------- 40.6/60.4 MB 1.8 MB/s eta 0:00:11\n",
      "   --------------------------- ------------ 40.9/60.4 MB 1.8 MB/s eta 0:00:11\n",
      "   --------------------------- ------------ 41.4/60.4 MB 1.8 MB/s eta 0:00:11\n",
      "   --------------------------- ------------ 41.7/60.4 MB 1.8 MB/s eta 0:00:11\n",
      "   --------------------------- ------------ 42.2/60.4 MB 1.8 MB/s eta 0:00:10\n",
      "   ---------------------------- ----------- 42.5/60.4 MB 1.8 MB/s eta 0:00:10\n",
      "   ---------------------------- ----------- 43.0/60.4 MB 1.8 MB/s eta 0:00:10\n",
      "   ---------------------------- ----------- 43.3/60.4 MB 1.8 MB/s eta 0:00:10\n",
      "   ----------------------------- ---------- 43.8/60.4 MB 1.8 MB/s eta 0:00:10\n",
      "   ----------------------------- ---------- 44.0/60.4 MB 1.8 MB/s eta 0:00:09\n",
      "   ----------------------------- ---------- 44.3/60.4 MB 1.8 MB/s eta 0:00:09\n",
      "   ----------------------------- ---------- 44.8/60.4 MB 1.8 MB/s eta 0:00:09\n",
      "   ----------------------------- ---------- 45.1/60.4 MB 1.8 MB/s eta 0:00:09\n",
      "   ------------------------------ --------- 45.4/60.4 MB 1.8 MB/s eta 0:00:09\n",
      "   ------------------------------ --------- 45.6/60.4 MB 1.8 MB/s eta 0:00:09\n",
      "   ------------------------------ --------- 45.9/60.4 MB 1.8 MB/s eta 0:00:08\n",
      "   ------------------------------ --------- 46.1/60.4 MB 1.8 MB/s eta 0:00:08\n",
      "   ------------------------------ --------- 46.4/60.4 MB 1.8 MB/s eta 0:00:08\n",
      "   ------------------------------ --------- 46.7/60.4 MB 1.8 MB/s eta 0:00:08\n",
      "   ------------------------------- -------- 46.9/60.4 MB 1.8 MB/s eta 0:00:08\n",
      "   ------------------------------- -------- 47.2/60.4 MB 1.8 MB/s eta 0:00:08\n",
      "   ------------------------------- -------- 47.4/60.4 MB 1.8 MB/s eta 0:00:08\n",
      "   ------------------------------- -------- 47.7/60.4 MB 1.8 MB/s eta 0:00:08\n",
      "   ------------------------------- -------- 48.0/60.4 MB 1.8 MB/s eta 0:00:07\n",
      "   ------------------------------- -------- 48.2/60.4 MB 1.8 MB/s eta 0:00:07\n",
      "   -------------------------------- ------- 48.8/60.4 MB 1.8 MB/s eta 0:00:07\n",
      "   -------------------------------- ------- 49.0/60.4 MB 1.8 MB/s eta 0:00:07\n",
      "   -------------------------------- ------- 49.5/60.4 MB 1.8 MB/s eta 0:00:07\n",
      "   --------------------------------- ------ 49.8/60.4 MB 1.8 MB/s eta 0:00:06\n",
      "   --------------------------------- ------ 50.3/60.4 MB 1.8 MB/s eta 0:00:06\n",
      "   --------------------------------- ------ 50.9/60.4 MB 1.8 MB/s eta 0:00:06\n",
      "   --------------------------------- ------ 51.1/60.4 MB 1.8 MB/s eta 0:00:06\n",
      "   ---------------------------------- ----- 51.6/60.4 MB 1.8 MB/s eta 0:00:05\n",
      "   ---------------------------------- ----- 52.2/60.4 MB 1.8 MB/s eta 0:00:05\n",
      "   ---------------------------------- ----- 52.4/60.4 MB 1.8 MB/s eta 0:00:05\n",
      "   ----------------------------------- ---- 53.0/60.4 MB 1.8 MB/s eta 0:00:05\n",
      "   ----------------------------------- ---- 53.5/60.4 MB 1.8 MB/s eta 0:00:04\n",
      "   ----------------------------------- ---- 53.7/60.4 MB 1.8 MB/s eta 0:00:04\n",
      "   ----------------------------------- ---- 54.3/60.4 MB 1.8 MB/s eta 0:00:04\n",
      "   ------------------------------------ --- 54.8/60.4 MB 1.8 MB/s eta 0:00:04\n",
      "   ------------------------------------ --- 55.1/60.4 MB 1.8 MB/s eta 0:00:03\n",
      "   ------------------------------------ --- 55.6/60.4 MB 1.8 MB/s eta 0:00:03\n",
      "   ------------------------------------- -- 56.1/60.4 MB 1.8 MB/s eta 0:00:03\n",
      "   ------------------------------------- -- 56.4/60.4 MB 1.8 MB/s eta 0:00:03\n",
      "   ------------------------------------- -- 56.9/60.4 MB 1.8 MB/s eta 0:00:02\n",
      "   ------------------------------------- -- 57.1/60.4 MB 1.8 MB/s eta 0:00:02\n",
      "   -------------------------------------- - 57.7/60.4 MB 1.8 MB/s eta 0:00:02\n",
      "   -------------------------------------- - 57.9/60.4 MB 1.8 MB/s eta 0:00:02\n",
      "   -------------------------------------- - 58.2/60.4 MB 1.8 MB/s eta 0:00:02\n",
      "   -------------------------------------- - 58.5/60.4 MB 1.8 MB/s eta 0:00:02\n",
      "   ---------------------------------------  59.0/60.4 MB 1.8 MB/s eta 0:00:01\n",
      "   ---------------------------------------  59.2/60.4 MB 1.8 MB/s eta 0:00:01\n",
      "   ---------------------------------------  59.8/60.4 MB 1.8 MB/s eta 0:00:01\n",
      "   ---------------------------------------  60.0/60.4 MB 1.8 MB/s eta 0:00:01\n",
      "   ---------------------------------------  60.3/60.4 MB 1.8 MB/s eta 0:00:01\n",
      "   ---------------------------------------  60.3/60.4 MB 1.8 MB/s eta 0:00:01\n",
      "   ---------------------------------------- 60.4/60.4 MB 1.8 MB/s eta 0:00:00\n",
      "Downloading gradio_client-1.13.0-py3-none-any.whl (325 kB)\n",
      "Downloading aiofiles-24.1.0-py3-none-any.whl (15 kB)\n",
      "Downloading Brotli-1.1.0-cp312-cp312-win_amd64.whl (357 kB)\n",
      "Downloading fastapi-0.116.1-py3-none-any.whl (95 kB)\n",
      "Downloading groovy-0.1.2-py3-none-any.whl (14 kB)\n",
      "Downloading huggingface_hub-0.34.4-py3-none-any.whl (561 kB)\n",
      "   ---------------------------------------- 0.0/561.5 kB ? eta -:--:--\n",
      "   ------------------ --------------------- 262.1/561.5 kB ? eta -:--:--\n",
      "   ---------------------------------------- 561.5/561.5 kB 1.7 MB/s eta 0:00:00\n",
      "Downloading numpy-2.3.3-cp312-cp312-win_amd64.whl (12.8 MB)\n",
      "   ---------------------------------------- 0.0/12.8 MB ? eta -:--:--\n",
      "    --------------------------------------- 0.3/12.8 MB ? eta -:--:--\n",
      "   -- ------------------------------------- 0.8/12.8 MB 2.1 MB/s eta 0:00:06\n",
      "   --- ------------------------------------ 1.0/12.8 MB 2.1 MB/s eta 0:00:06\n",
      "   ---- ----------------------------------- 1.6/12.8 MB 2.0 MB/s eta 0:00:06\n",
      "   ------ --------------------------------- 2.1/12.8 MB 2.1 MB/s eta 0:00:06\n",
      "   ------- -------------------------------- 2.4/12.8 MB 2.1 MB/s eta 0:00:06\n",
      "   --------- ------------------------------ 2.9/12.8 MB 2.0 MB/s eta 0:00:05\n",
      "   ---------- ----------------------------- 3.4/12.8 MB 2.1 MB/s eta 0:00:05\n",
      "   ------------ --------------------------- 3.9/12.8 MB 2.1 MB/s eta 0:00:05\n",
      "   ------------- -------------------------- 4.2/12.8 MB 2.0 MB/s eta 0:00:05\n",
      "   -------------- ------------------------- 4.7/12.8 MB 2.1 MB/s eta 0:00:04\n",
      "   ---------------- ----------------------- 5.2/12.8 MB 2.1 MB/s eta 0:00:04\n",
      "   ----------------- ---------------------- 5.5/12.8 MB 2.1 MB/s eta 0:00:04\n",
      "   ------------------ --------------------- 6.0/12.8 MB 2.1 MB/s eta 0:00:04\n",
      "   ------------------- -------------------- 6.3/12.8 MB 2.1 MB/s eta 0:00:04\n",
      "   --------------------- ------------------ 6.8/12.8 MB 2.1 MB/s eta 0:00:03\n",
      "   --------------------- ------------------ 6.8/12.8 MB 2.1 MB/s eta 0:00:03\n",
      "   ---------------------- ----------------- 7.1/12.8 MB 1.9 MB/s eta 0:00:04\n",
      "   ------------------------- -------------- 8.1/12.8 MB 2.1 MB/s eta 0:00:03\n",
      "   -------------------------- ------------- 8.4/12.8 MB 2.1 MB/s eta 0:00:03\n",
      "   --------------------------- ------------ 8.9/12.8 MB 2.1 MB/s eta 0:00:02\n",
      "   ----------------------------- ---------- 9.4/12.8 MB 2.1 MB/s eta 0:00:02\n",
      "   ------------------------------- -------- 10.0/12.8 MB 2.1 MB/s eta 0:00:02\n",
      "   ------------------------------- -------- 10.2/12.8 MB 2.1 MB/s eta 0:00:02\n",
      "   --------------------------------- ------ 10.7/12.8 MB 2.1 MB/s eta 0:00:01\n",
      "   ----------------------------------- ---- 11.3/12.8 MB 2.1 MB/s eta 0:00:01\n",
      "   ------------------------------------ --- 11.5/12.8 MB 2.1 MB/s eta 0:00:01\n",
      "   ------------------------------------- -- 12.1/12.8 MB 2.1 MB/s eta 0:00:01\n",
      "   ---------------------------------------  12.6/12.8 MB 2.0 MB/s eta 0:00:01\n",
      "   ---------------------------------------- 12.8/12.8 MB 2.0 MB/s eta 0:00:00\n",
      "Downloading orjson-3.11.3-cp312-cp312-win_amd64.whl (131 kB)\n",
      "Downloading pandas-2.3.2-cp312-cp312-win_amd64.whl (11.0 MB)\n",
      "   ---------------------------------------- 0.0/11.0 MB ? eta -:--:--\n",
      "    --------------------------------------- 0.3/11.0 MB ? eta -:--:--\n",
      "   -- ------------------------------------- 0.8/11.0 MB 2.1 MB/s eta 0:00:05\n",
      "   --- ------------------------------------ 1.0/11.0 MB 2.1 MB/s eta 0:00:05\n",
      "   --- ------------------------------------ 1.0/11.0 MB 2.1 MB/s eta 0:00:05\n",
      "   ----- ---------------------------------- 1.6/11.0 MB 1.5 MB/s eta 0:00:07\n",
      "   ------- -------------------------------- 2.1/11.0 MB 1.8 MB/s eta 0:00:05\n",
      "   --------- ------------------------------ 2.6/11.0 MB 1.8 MB/s eta 0:00:05\n",
      "   ---------- ----------------------------- 2.9/11.0 MB 1.8 MB/s eta 0:00:05\n",
      "   ----------- ---------------------------- 3.1/11.0 MB 1.7 MB/s eta 0:00:05\n",
      "   ------------- -------------------------- 3.7/11.0 MB 1.7 MB/s eta 0:00:05\n",
      "   -------------- ------------------------- 3.9/11.0 MB 1.8 MB/s eta 0:00:05\n",
      "   ---------------- ----------------------- 4.5/11.0 MB 1.8 MB/s eta 0:00:04\n",
      "   ----------------- ---------------------- 4.7/11.0 MB 1.8 MB/s eta 0:00:04\n",
      "   ------------------ --------------------- 5.0/11.0 MB 1.7 MB/s eta 0:00:04\n",
      "   ------------------- -------------------- 5.2/11.0 MB 1.8 MB/s eta 0:00:04\n",
      "   --------------------- ------------------ 5.8/11.0 MB 1.7 MB/s eta 0:00:04\n",
      "   ---------------------- ----------------- 6.3/11.0 MB 1.8 MB/s eta 0:00:03\n",
      "   ----------------------- ---------------- 6.6/11.0 MB 1.8 MB/s eta 0:00:03\n",
      "   ------------------------- -------------- 7.1/11.0 MB 1.8 MB/s eta 0:00:03\n",
      "   --------------------------- ------------ 7.6/11.0 MB 1.8 MB/s eta 0:00:02\n",
      "   ---------------------------- ----------- 7.9/11.0 MB 1.8 MB/s eta 0:00:02\n",
      "   ----------------------------- ---------- 8.1/11.0 MB 1.8 MB/s eta 0:00:02\n",
      "   ------------------------------- -------- 8.7/11.0 MB 1.8 MB/s eta 0:00:02\n",
      "   -------------------------------- ------- 8.9/11.0 MB 1.8 MB/s eta 0:00:02\n",
      "   ---------------------------------- ----- 9.4/11.0 MB 1.8 MB/s eta 0:00:01\n",
      "   ------------------------------------ --- 10.0/11.0 MB 1.8 MB/s eta 0:00:01\n",
      "   ------------------------------------- -- 10.2/11.0 MB 1.8 MB/s eta 0:00:01\n",
      "   ---------------------------------------  10.7/11.0 MB 1.8 MB/s eta 0:00:01\n",
      "   ---------------------------------------- 11.0/11.0 MB 1.8 MB/s eta 0:00:00\n",
      "Downloading python_multipart-0.0.20-py3-none-any.whl (24 kB)\n",
      "Downloading ruff-0.13.0-py3-none-win_amd64.whl (13.3 MB)\n",
      "   ---------------------------------------- 0.0/13.3 MB ? eta -:--:--\n",
      "    --------------------------------------- 0.3/13.3 MB ? eta -:--:--\n",
      "   - -------------------------------------- 0.5/13.3 MB 1.5 MB/s eta 0:00:09\n",
      "   -- ------------------------------------- 0.8/13.3 MB 1.5 MB/s eta 0:00:09\n",
      "   --- ------------------------------------ 1.3/13.3 MB 1.6 MB/s eta 0:00:08\n",
      "   ---- ----------------------------------- 1.6/13.3 MB 1.6 MB/s eta 0:00:08\n",
      "   ------ --------------------------------- 2.1/13.3 MB 1.7 MB/s eta 0:00:07\n",
      "   ------- -------------------------------- 2.4/13.3 MB 1.7 MB/s eta 0:00:07\n",
      "   ------- -------------------------------- 2.6/13.3 MB 1.7 MB/s eta 0:00:07\n",
      "   --------- ------------------------------ 3.1/13.3 MB 1.7 MB/s eta 0:00:06\n",
      "   ----------- ---------------------------- 3.7/13.3 MB 1.7 MB/s eta 0:00:06\n",
      "   ----------- ---------------------------- 3.9/13.3 MB 1.8 MB/s eta 0:00:06\n",
      "   ------------ --------------------------- 4.2/13.3 MB 1.8 MB/s eta 0:00:06\n",
      "   -------------- ------------------------- 4.7/13.3 MB 1.7 MB/s eta 0:00:05\n",
      "   --------------- ------------------------ 5.0/13.3 MB 1.7 MB/s eta 0:00:05\n",
      "   ---------------- ----------------------- 5.5/13.3 MB 1.8 MB/s eta 0:00:05\n",
      "   ----------------- ---------------------- 5.8/13.3 MB 1.8 MB/s eta 0:00:05\n",
      "   ------------------ --------------------- 6.0/13.3 MB 1.8 MB/s eta 0:00:05\n",
      "   ------------------- -------------------- 6.6/13.3 MB 1.8 MB/s eta 0:00:04\n",
      "   --------------------- ------------------ 7.1/13.3 MB 1.8 MB/s eta 0:00:04\n",
      "   ---------------------- ----------------- 7.3/13.3 MB 1.8 MB/s eta 0:00:04\n",
      "   ---------------------- ----------------- 7.6/13.3 MB 1.8 MB/s eta 0:00:04\n",
      "   ----------------------- ---------------- 7.9/13.3 MB 1.8 MB/s eta 0:00:04\n",
      "   ----------------------- ---------------- 7.9/13.3 MB 1.8 MB/s eta 0:00:04\n",
      "   -------------------------- ------------- 8.7/13.3 MB 1.8 MB/s eta 0:00:03\n",
      "   --------------------------- ------------ 9.2/13.3 MB 1.8 MB/s eta 0:00:03\n",
      "   ---------------------------- ----------- 9.4/13.3 MB 1.8 MB/s eta 0:00:03\n",
      "   ----------------------------- ---------- 9.7/13.3 MB 1.7 MB/s eta 0:00:03\n",
      "   ------------------------------ --------- 10.0/13.3 MB 1.7 MB/s eta 0:00:02\n",
      "   ------------------------------- -------- 10.5/13.3 MB 1.7 MB/s eta 0:00:02\n",
      "   --------------------------------- ------ 11.0/13.3 MB 1.8 MB/s eta 0:00:02\n",
      "   ---------------------------------- ----- 11.3/13.3 MB 1.8 MB/s eta 0:00:02\n",
      "   ---------------------------------- ----- 11.5/13.3 MB 1.8 MB/s eta 0:00:01\n",
      "   ------------------------------------ --- 12.1/13.3 MB 1.8 MB/s eta 0:00:01\n",
      "   ------------------------------------- -- 12.3/13.3 MB 1.8 MB/s eta 0:00:01\n",
      "   -------------------------------------- - 12.8/13.3 MB 1.8 MB/s eta 0:00:01\n",
      "   ---------------------------------------  13.1/13.3 MB 1.8 MB/s eta 0:00:01\n",
      "   ---------------------------------------- 13.3/13.3 MB 1.7 MB/s eta 0:00:00\n",
      "Downloading safehttpx-0.1.6-py3-none-any.whl (8.7 kB)\n",
      "Downloading semantic_version-2.10.0-py2.py3-none-any.whl (15 kB)\n",
      "Downloading starlette-0.47.3-py3-none-any.whl (72 kB)\n",
      "Downloading tomlkit-0.13.3-py3-none-any.whl (38 kB)\n",
      "Downloading typer-0.17.4-py3-none-any.whl (46 kB)\n",
      "Downloading uvicorn-0.35.0-py3-none-any.whl (66 kB)\n",
      "Downloading ffmpy-0.6.1-py3-none-any.whl (5.5 kB)\n",
      "Downloading pydub-0.25.1-py2.py3-none-any.whl (32 kB)\n",
      "Downloading click-8.2.1-py3-none-any.whl (102 kB)\n",
      "Downloading fsspec-2025.9.0-py3-none-any.whl (199 kB)\n",
      "Downloading pytz-2025.2-py2.py3-none-any.whl (509 kB)\n",
      "Downloading rich-14.1.0-py3-none-any.whl (243 kB)\n",
      "Downloading shellingham-1.5.4-py2.py3-none-any.whl (9.8 kB)\n",
      "Downloading tzdata-2025.2-py2.py3-none-any.whl (347 kB)\n",
      "Downloading websockets-15.0.1-cp312-cp312-win_amd64.whl (176 kB)\n",
      "Downloading filelock-3.19.1-py3-none-any.whl (15 kB)\n",
      "Downloading markdown_it_py-4.0.0-py3-none-any.whl (87 kB)\n",
      "Downloading mdurl-0.1.2-py3-none-any.whl (10.0 kB)\n",
      "Installing collected packages: pytz, pydub, brotli, websockets, tzdata, tomlkit, shellingham, semantic-version, ruff, python-multipart, orjson, numpy, mdurl, groovy, fsspec, filelock, ffmpy, click, aiofiles, uvicorn, starlette, pandas, markdown-it-py, huggingface-hub, safehttpx, rich, gradio-client, fastapi, typer, gradio\n",
      "  Attempting uninstall: brotli\n",
      "    Found existing installation: Brotli 1.0.9\n",
      "    Uninstalling Brotli-1.0.9:\n",
      "      Successfully uninstalled Brotli-1.0.9\n",
      "Successfully installed aiofiles-24.1.0 brotli-1.1.0 click-8.2.1 fastapi-0.116.1 ffmpy-0.6.1 filelock-3.19.1 fsspec-2025.9.0 gradio-5.45.0 gradio-client-1.13.0 groovy-0.1.2 huggingface-hub-0.34.4 markdown-it-py-4.0.0 mdurl-0.1.2 numpy-2.3.3 orjson-3.11.3 pandas-2.3.2 pydub-0.25.1 python-multipart-0.0.20 pytz-2025.2 rich-14.1.0 ruff-0.13.0 safehttpx-0.1.6 semantic-version-2.10.0 shellingham-1.5.4 starlette-0.47.3 tomlkit-0.13.3 typer-0.17.4 tzdata-2025.2 uvicorn-0.35.0 websockets-15.0.1\n"
     ]
    },
    {
     "name": "stderr",
     "output_type": "stream",
     "text": [
      "  WARNING: Failed to remove contents in a temporary directory 'C:\\Users\\elwady\\AppData\\Local\\Temp\\pip-uninstall-xq1vjy3r'.\n",
      "  You can safely remove it manually.\n"
     ]
    }
   ],
   "source": [
    "!pip install gradio"
   ]
  },
  {
   "cell_type": "code",
   "execution_count": 3,
   "id": "878ef3a1-e922-44d2-a0ac-879beece9e92",
   "metadata": {},
   "outputs": [
    {
     "name": "stdout",
     "output_type": "stream",
     "text": [
      "OpenAI client successfully configured.\n",
      "First 5 characters of API key: sk-or\n"
     ]
    }
   ],
   "source": [
    "import os\n",
    "from IPython.display import display,Markdown\n",
    "from openai import OpenAI \n",
    "from dotenv import load_dotenv\n",
    "load_dotenv()\n",
    "openai_api_key=os.getenv(\"OPENAI_API_KEY\")\n",
    "openai_client=OpenAI(api_key=openai_api_key,base_url=\"https://openrouter.ai/api/v1\")\n",
    "print(\"OpenAI client successfully configured.\")\n",
    "print(\"First 5 characters of API key:\", openai_api_key[:5])\n",
    "\n"
   ]
  },
  {
   "cell_type": "code",
   "execution_count": 5,
   "id": "5af72c55-09ad-4d99-aaf6-f963738697fb",
   "metadata": {},
   "outputs": [],
   "source": [
    "def print_markdown(text):\n",
    "    \"display text\"\n",
    "    display(Markdown(text))"
   ]
  },
  {
   "cell_type": "markdown",
   "id": "316342ae-5aa7-41c5-b3f1-d4b363ddbbe7",
   "metadata": {},
   "source": [
    "**BUILD A BASIC AI TUTOR FUNCTION (NO GRADIO YET)**"
   ]
  },
  {
   "cell_type": "code",
   "execution_count": 7,
   "id": "efb7e7b1-e91c-4a83-84ac-75307db6a073",
   "metadata": {},
   "outputs": [],
   "source": [
    "def get_ai_tutor_response(user_question):\n",
    "    system_prompt=\"You are a helpful and patient AI Tutor. Explain concepts clearly and concisely.\"\n",
    "    try:\n",
    "        response=openai_client.chat.completions.create(\n",
    "            model=\"mistralai/mistral-small-3.2-24b-instruct:free\",\n",
    "            messages=[{\"role\":\"system\",\"content\":system_prompt},{\"role\":\"user\",\"content\":user_question},],\n",
    "              temperature=0.7\n",
    "        )\n",
    "        ai_response=response.choices[0].message.content\n",
    "        return ai_response\n",
    "\n",
    "    except Exception as e:\n",
    "                print(f\"An error occurred: {e}\")"
   ]
  },
  {
   "cell_type": "code",
   "execution_count": 10,
   "id": "64cfa293-226a-4a9e-9b64-4066cc9eb721",
   "metadata": {},
   "outputs": [
    {
     "data": {
      "text/markdown": [
       "Asking AI Tutor Could you explain the concept of functions in Python and their purpose in programming?"
      ],
      "text/plain": [
       "<IPython.core.display.Markdown object>"
      ]
     },
     "metadata": {},
     "output_type": "display_data"
    },
    {
     "data": {
      "text/markdown": [
       "\n",
       " AI Tutor Response \n"
      ],
      "text/plain": [
       "<IPython.core.display.Markdown object>"
      ]
     },
     "metadata": {},
     "output_type": "display_data"
    },
    {
     "data": {
      "text/markdown": [
       "Absolutely, I'd be happy to explain functions in Python and their purpose in programming!\n",
       "\n",
       "### What is a Function?\n",
       "A function is a reusable block of code that performs a specific task. Functions help in organizing code into smaller, manageable, and reusable pieces. They can take inputs (called arguments), perform some operations, and optionally return outputs (called return values).\n",
       "\n",
       "### Purpose of Functions\n",
       "1. **Reusability**: Functions allow you to write code once and use it multiple times. This reduces redundancy and makes the code easier to maintain.\n",
       "2. **Modularity**: Breaking down a large program into smaller functions makes it easier to understand, debug, and test.\n",
       "3. **Abstraction**: Functions hide the implementation details and expose only what is necessary. This makes the code easier to read and understand.\n",
       "4. **Organization**: Functions help in organizing code logically, making it more structured and easier to navigate.\n",
       "\n",
       "### Defining a Function in Python\n",
       "In Python, you can define a function using the `def` keyword followed by the function name, parentheses `()`, and a colon `:`. The code block inside the function is indented.\n",
       "\n",
       "```python\n",
       "def function_name(parameters):\n",
       "    # Code to execute\n",
       "    return return_value\n",
       "```\n",
       "\n",
       "### Example\n",
       "Here's a simple example of a function that adds two numbers:\n",
       "\n",
       "```python\n",
       "def add_numbers(a, b):\n",
       "    result = a + b\n",
       "    return result\n",
       "```\n",
       "\n",
       "### Calling a Function\n",
       "To use a function, you call it by its name followed by parentheses. You can pass arguments inside the parentheses if the function requires them.\n",
       "\n",
       "```python\n",
       "sum_result = add_numbers(3, 5)\n",
       "print(sum_result)  # Output: 8\n",
       "```\n",
       "\n",
       "### Key Components\n",
       "1. **Function Name**: The name of the function (e.g., `add_numbers`).\n",
       "2. **Parameters**: Variables listed inside the parentheses (e.g., `a` and `b`). They are optional.\n",
       "3. **Return Value**: The value that the function returns using the `return` statement. This is also optional.\n",
       "4. **Function Body**: The indented block of code that defines what the function does.\n",
       "\n",
       "### Default Parameters\n",
       "You can also define default values for parameters, which are used if no argument is provided.\n",
       "\n",
       "```python\n",
       "def greet(name, message=\"Hello\"):\n",
       "    print(f\"{message}, {name}!\")\n",
       "\n",
       "greet(\"Alice\")  # Output: Hello, Alice!\n",
       "greet(\"Bob\", \"Hi\")  # Output: Hi, Bob!\n",
       "```\n",
       "\n",
       "### Scope of Variables\n",
       "Variables defined inside a function are local to that function and cannot be accessed outside it unless returned. Variables defined outside functions are global and can be accessed anywhere.\n",
       "\n",
       "### Built-in Functions\n",
       "Python comes with many built-in functions like `print()`, `len()`, `sum()`, etc., which you can use directly.\n",
       "\n",
       "### Conclusion\n",
       "Functions are a fundamental concept in programming that help in writing clean, efficient, and maintainable code. They encapsulate a specific task, making the code more modular and easier to understand."
      ],
      "text/plain": [
       "<IPython.core.display.Markdown object>"
      ]
     },
     "metadata": {},
     "output_type": "display_data"
    }
   ],
   "source": [
    "test_question=\"Could you explain the concept of functions in Python and their purpose in programming?\"\n",
    "print_markdown(f\"Asking AI Tutor {test_question}\")\n",
    "tutor_answer=get_ai_tutor_response(test_question)\n",
    "print_markdown(\"\\n AI Tutor Response \\n\")\n",
    "print_markdown(tutor_answer)"
   ]
  },
  {
   "cell_type": "markdown",
   "id": "3c93c575-cb4f-4413-92e7-77ff82112859",
   "metadata": {},
   "source": [
    "**BUILD AN INTERACTIVE INTERFACE USING GRADIO**"
   ]
  },
  {
   "cell_type": "code",
   "execution_count": 11,
   "id": "462e5ff1-678b-44cf-aed1-d369a2fffe68",
   "metadata": {},
   "outputs": [
    {
     "name": "stderr",
     "output_type": "stream",
     "text": [
      "C:\\Users\\elwady\\MiniConda3\\Lib\\site-packages\\tqdm\\auto.py:21: TqdmWarning: IProgress not found. Please update jupyter and ipywidgets. See https://ipywidgets.readthedocs.io/en/stable/user_install.html\n",
      "  from .autonotebook import tqdm as notebook_tqdm\n"
     ]
    }
   ],
   "source": [
    "import gradio as gr"
   ]
  },
  {
   "cell_type": "code",
   "execution_count": 17,
   "id": "aa8cc63d-22ec-4978-bdb7-964c7fa7fc35",
   "metadata": {
    "scrolled": true
   },
   "outputs": [
    {
     "name": "stderr",
     "output_type": "stream",
     "text": [
      "C:\\Users\\elwady\\MiniConda3\\Lib\\site-packages\\gradio\\interface.py:418: UserWarning: The `allow_flagging` parameter in `Interface` is deprecated. Use `flagging_mode` instead.\n",
      "  warnings.warn(\n"
     ]
    },
    {
     "name": "stdout",
     "output_type": "stream",
     "text": [
      "* Running on local URL:  http://127.0.0.1:7863\n",
      "* To create a public link, set `share=True` in `launch()`.\n"
     ]
    },
    {
     "data": {
      "text/html": [
       "<div><iframe src=\"http://127.0.0.1:7863/\" width=\"100%\" height=\"500\" allow=\"autoplay; camera; microphone; clipboard-read; clipboard-write;\" frameborder=\"0\" allowfullscreen></iframe></div>"
      ],
      "text/plain": [
       "<IPython.core.display.HTML object>"
      ]
     },
     "metadata": {},
     "output_type": "display_data"
    },
    {
     "data": {
      "text/plain": []
     },
     "execution_count": 17,
     "metadata": {},
     "output_type": "execute_result"
    }
   ],
   "source": [
    "ai_tutor_interface_simple=gr.Interface(\n",
    "    fn=get_ai_tutor_response,\n",
    "    inputs=gr.Textbox(lines=2,placeholder=\"Enter Your Question\",label=\"Your Question\"),\n",
    "    outputs=gr.Textbox(label=\"AI Tutor Answer\",lines=10),\n",
    "    title=\"Simple AI Tutor🤖\",\n",
    "    description=\"Enter your question below and the AI Tutor will provide an explanation\",\n",
    "    allow_flagging=\"never\"\n",
    ")\n",
    "ai_tutor_interface_simple.launch()"
   ]
  },
  {
   "cell_type": "markdown",
   "id": "030bc9cd-9a87-45b4-91c6-4a37daf186c4",
   "metadata": {},
   "source": [
    "**ADD Streaming**"
   ]
  },
  {
   "cell_type": "code",
   "execution_count": 20,
   "id": "eb47b51f-0179-4366-a0f0-e05446b770de",
   "metadata": {},
   "outputs": [],
   "source": [
    "def stream_ai_tutor_response(user_question):\n",
    "    system_prompt=\"You are a helpful and patient AI Tutor. Explain concepts clearly and concisely.\"\n",
    "\n",
    "    try:\n",
    "        stream=openai_client.chat.completions.create(\n",
    "            model=\"mistralai/mistral-small-3.2-24b-instruct:free\",\n",
    "            messages=[{\"role\":\"system\",\"content\":system_prompt},{\"role\":\"user\",\"content\":user_question}],\n",
    "            temperature=0.7,\n",
    "            stream=True\n",
    "        )\n",
    "\n",
    "        full_response=\"\"\n",
    "        for chunk in stream:\n",
    "            if chunk.choices[0].delta and chunk.choices[0].delta.content:\n",
    "                text_chunk=chunk.choices[0].delta.content\n",
    "                full_response+=text_chunk\n",
    "                yield full_response  #This makes the text appear to be typing in real-time\n",
    "\n",
    "    except Exception as e:\n",
    "                print(f\"An error occurred during streaming: {e}\")"
   ]
  },
  {
   "cell_type": "code",
   "execution_count": 22,
   "id": "f9303ec9-18e7-46c4-82f4-a2680de06898",
   "metadata": {},
   "outputs": [
    {
     "name": "stderr",
     "output_type": "stream",
     "text": [
      "C:\\Users\\elwady\\MiniConda3\\Lib\\site-packages\\gradio\\interface.py:418: UserWarning: The `allow_flagging` parameter in `Interface` is deprecated. Use `flagging_mode` instead.\n",
      "  warnings.warn(\n"
     ]
    },
    {
     "name": "stdout",
     "output_type": "stream",
     "text": [
      "* Running on local URL:  http://127.0.0.1:7866\n",
      "* To create a public link, set `share=True` in `launch()`.\n"
     ]
    },
    {
     "data": {
      "text/html": [
       "<div><iframe src=\"http://127.0.0.1:7866/\" width=\"100%\" height=\"500\" allow=\"autoplay; camera; microphone; clipboard-read; clipboard-write;\" frameborder=\"0\" allowfullscreen></iframe></div>"
      ],
      "text/plain": [
       "<IPython.core.display.HTML object>"
      ]
     },
     "metadata": {},
     "output_type": "display_data"
    },
    {
     "data": {
      "text/plain": []
     },
     "execution_count": 22,
     "metadata": {},
     "output_type": "execute_result"
    }
   ],
   "source": [
    "ai_tutor_streaming=gr.Interface(\n",
    "    fn=stream_ai_tutor_response,\n",
    "    inputs=gr.Textbox(lines=2,placeholder=\"Enter Your Question\",label=\"Your Question\"),\n",
    "    outputs=gr.Markdown( label = \"AI Tutor's Answer (Streaming)\", container = True, height = 250),\n",
    "    description=\"Enter your question below and the AI Tutor will provide an explanation\",\n",
    "    title=\"Simple Streaming AI Tutor🤖\",\n",
    "    allow_flagging=\"never\"\n",
    "\n",
    ")\n",
    "ai_tutor_streaming.launch()"
   ]
  },
  {
   "cell_type": "markdown",
   "id": "1ac59e54-2130-4727-98f4-67cabb9fdff8",
   "metadata": {},
   "source": [
    "**ADD Slider**"
   ]
  },
  {
   "cell_type": "code",
   "execution_count": 23,
   "id": "6cadc87d-b7e7-4289-a7c4-16803928606a",
   "metadata": {},
   "outputs": [],
   "source": [
    "explanation_levels={\n",
    "        1: \"like I'm 5 years old\",\n",
    "    2: \"like I'm 10 years old\",\n",
    "    3: \"like a high school student\",\n",
    "    4: \"like a college student\",\n",
    "    5: \"like an expert in the field\",\n",
    "}"
   ]
  },
  {
   "cell_type": "code",
   "execution_count": 33,
   "id": "23e969f2-2415-49f4-83f8-af223664e903",
   "metadata": {},
   "outputs": [],
   "source": [
    "def ai_tutor_stream_response_with_levels(user_question,explanation_level_value):\n",
    "    level_description=explanation_levels.get(\n",
    "        explanation_level_value\n",
    "    )\n",
    "    system_prompt=f\"You are a helpful and patient AI Tutor {level_description}\"\n",
    "    try:\n",
    "        stream=openai_client.chat.completions.create(\n",
    "            model=\"mistralai/mistral-small-3.2-24b-instruct:free\",\n",
    "            messages=[{\"role\":\"system\",\"content\":system_prompt},{\"role\":\"user\",\"content\":user_question}],\n",
    "            temperature=0.7,\n",
    "            stream=True\n",
    "        )\n",
    "        full_response=\"\"\n",
    "        for chunk in stream:\n",
    "            if chunk.choices[0].delta and chunk.choices[0].delta.content:\n",
    "             text_chunk=chunk.choices[0].delta.content\n",
    "             full_response+=text_chunk\n",
    "\n",
    "            yield full_response\n",
    "    except Exception as e:\n",
    "           print(f\"An error occurred during streaming: {e}\")\n",
    "        \n",
    "        "
   ]
  },
  {
   "cell_type": "code",
   "execution_count": 34,
   "id": "7da5f1a1-e3d5-4dec-aa38-aee672571cfc",
   "metadata": {},
   "outputs": [
    {
     "name": "stderr",
     "output_type": "stream",
     "text": [
      "C:\\Users\\elwady\\MiniConda3\\Lib\\site-packages\\gradio\\interface.py:418: UserWarning: The `allow_flagging` parameter in `Interface` is deprecated. Use `flagging_mode` instead.\n",
      "  warnings.warn(\n"
     ]
    },
    {
     "name": "stdout",
     "output_type": "stream",
     "text": [
      "* Running on local URL:  http://127.0.0.1:7869\n",
      "* To create a public link, set `share=True` in `launch()`.\n"
     ]
    },
    {
     "data": {
      "text/html": [
       "<div><iframe src=\"http://127.0.0.1:7869/\" width=\"100%\" height=\"500\" allow=\"autoplay; camera; microphone; clipboard-read; clipboard-write;\" frameborder=\"0\" allowfullscreen></iframe></div>"
      ],
      "text/plain": [
       "<IPython.core.display.HTML object>"
      ]
     },
     "metadata": {},
     "output_type": "display_data"
    },
    {
     "data": {
      "text/plain": []
     },
     "execution_count": 34,
     "metadata": {},
     "output_type": "execute_result"
    }
   ],
   "source": [
    "ai_tutor_slider=gr.Interface(\n",
    "    fn=ai_tutor_stream_response_with_levels,\n",
    "    inputs=[    gr.Textbox(lines = 3, placeholder = \"Ask the AI Tutor a question...\", label = \"Your Question\"),\n",
    "           gr.Slider( minimum = 1,\n",
    "            maximum = 5,\n",
    "            step = 1,  # Only allow whole numbers\n",
    "            value = 3,  # Default level (high school)\n",
    "            label = \"Explanation Level\"),  # Label for the slider)]\n",
    "           ],\n",
    "      outputs = gr.Markdown(label = \"AI Tutor's Explanation (Streaming)\", container = True, height = 250),\n",
    "    title = \"🎓 Advanced AI Tutor\",\n",
    "    description = \"Ask a question and select the desired level of explanation using the slider.\",\n",
    "    allow_flagging = \"never\",\n",
    ")\n",
    "ai_tutor_slider.launch()"
   ]
  },
  {
   "cell_type": "code",
   "execution_count": null,
   "id": "ae264cd3-057a-4c8a-9deb-1d264212463f",
   "metadata": {},
   "outputs": [],
   "source": []
  }
 ],
 "metadata": {
  "kernelspec": {
   "display_name": "Python 3 (ipykernel)",
   "language": "python",
   "name": "python3"
  },
  "language_info": {
   "codemirror_mode": {
    "name": "ipython",
    "version": 3
   },
   "file_extension": ".py",
   "mimetype": "text/x-python",
   "name": "python",
   "nbconvert_exporter": "python",
   "pygments_lexer": "ipython3",
   "version": "3.12.7"
  }
 },
 "nbformat": 4,
 "nbformat_minor": 5
}
